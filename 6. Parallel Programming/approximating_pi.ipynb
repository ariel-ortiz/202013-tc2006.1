{
 "cells": [
  {
   "cell_type": "markdown",
   "metadata": {},
   "source": [
    "# Approximating Pi"
   ]
  },
  {
   "cell_type": "code",
   "execution_count": 1,
   "metadata": {},
   "outputs": [
    {
     "data": {
      "text/plain": [
       "#'user/compute-pi"
      ]
     },
     "execution_count": 1,
     "metadata": {},
     "output_type": "execute_result"
    }
   ],
   "source": [
    "(defn compute-pi\n",
    "  [num-rects start end]\n",
    "  (let [width (/ 1.0 num-rects)]\n",
    "    (loop [sum 0.0\n",
    "           i start]\n",
    "      (if (= i end)\n",
    "        (* width sum)\n",
    "        (let [mid (* (+ i 0.5) width)\n",
    "              height (/ 4.0 (+ 1.0 (* mid mid)))]\n",
    "          (recur (+ sum height) (inc i)))))))"
   ]
  },
  {
   "cell_type": "code",
   "execution_count": 2,
   "metadata": {},
   "outputs": [
    {
     "data": {
      "text/plain": [
       "#'user/rect-ranges"
      ]
     },
     "execution_count": 2,
     "metadata": {},
     "output_type": "execute_result"
    }
   ],
   "source": [
    "(defn rect-ranges\n",
    "  [num-rects n]\n",
    "  (let [size (quot num-rects n)]\n",
    "    (->>\n",
    "      (range 0 num-rects size)\n",
    "      (map #(vector % (+ % size))))))"
   ]
  },
  {
   "cell_type": "code",
   "execution_count": 3,
   "metadata": {},
   "outputs": [
    {
     "data": {
      "text/plain": [
       "([0 250] [250 500] [500 750] [750 1000])"
      ]
     },
     "execution_count": 3,
     "metadata": {},
     "output_type": "execute_result"
    }
   ],
   "source": [
    "(rect-ranges 1000 4)"
   ]
  },
  {
   "cell_type": "code",
   "execution_count": 4,
   "metadata": {},
   "outputs": [
    {
     "data": {
      "text/plain": [
       "#'user/parallel-pi"
      ]
     },
     "execution_count": 4,
     "metadata": {},
     "output_type": "execute_result"
    }
   ],
   "source": [
    "(defn parallel-pi\n",
    "  [num-rects n]\n",
    "  (->>\n",
    "    (rect-ranges num-rects n)\n",
    "    (pmap (fn [[start end]] ;;; CPU Bound\n",
    "           (compute-pi num-rects start end)))\n",
    "    (reduce +)))"
   ]
  },
  {
   "cell_type": "markdown",
   "metadata": {},
   "source": [
    "## Real values of pi:\n",
    "\n",
    "    3.14159265358979323846"
   ]
  },
  {
   "cell_type": "markdown",
   "metadata": {},
   "source": [
    "## Sequential version (1 core):"
   ]
  },
  {
   "cell_type": "code",
   "execution_count": 5,
   "metadata": {},
   "outputs": [
    {
     "name": "stdout",
     "output_type": "stream",
     "text": [
      "\"Elapsed time: 25704.78856 msecs\"\n"
     ]
    },
    {
     "data": {
      "text/plain": [
       "3.1415926535899708"
      ]
     },
     "execution_count": 5,
     "metadata": {},
     "output_type": "execute_result"
    }
   ],
   "source": [
    "(time (parallel-pi 1000000000 1))"
   ]
  },
  {
   "cell_type": "markdown",
   "metadata": {},
   "source": [
    "## Parallel version (4 cores):"
   ]
  },
  {
   "cell_type": "code",
   "execution_count": 6,
   "metadata": {},
   "outputs": [
    {
     "name": "stdout",
     "output_type": "stream",
     "text": [
      "\"Elapsed time: 10582.31215 msecs\"\n"
     ]
    },
    {
     "data": {
      "text/plain": [
       "3.1415926535898215"
      ]
     },
     "execution_count": 6,
     "metadata": {},
     "output_type": "execute_result"
    }
   ],
   "source": [
    "(time (parallel-pi 1000000000 4))"
   ]
  }
 ],
 "metadata": {
  "kernelspec": {
   "display_name": "Clojure (clojupyter=0.3.2=1)",
   "language": "clojure",
   "name": "conda-clojupyter"
  },
  "language_info": {
   "file_extension": ".clj",
   "mimetype": "text/x-clojure",
   "name": "clojure",
   "version": "1.10.1"
  }
 },
 "nbformat": 4,
 "nbformat_minor": 4
}
