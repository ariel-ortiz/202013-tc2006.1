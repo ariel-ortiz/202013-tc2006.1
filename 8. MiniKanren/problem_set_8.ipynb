{
 "cells": [
  {
   "cell_type": "markdown",
   "metadata": {},
   "source": [
    "# Problem Set #8\n",
    "\n",
    "## Team exercises\n",
    "\n",
    "---\n",
    "\n",
    "_Student ID and Name_:\n",
    "\n",
    "_Student ID and Name_:\n",
    "\n",
    "_Student ID and Name_:\n",
    "\n",
    "---\n",
    "\n",
    "### Objective\n",
    "\n",
    "During this activity, students should be able to:\n",
    "\n",
    "* Write simple logic functions using the Clojure programming language and the MiniKanren library. \n",
    "\n",
    "---\n",
    "\n",
    "### Instructions\n",
    "\n",
    "- With all the team members of your breakout room, write the required Clojure code to solve the following problems. Make sure each function passes all the unit tests.\n",
    "\n",
    "- Once the team has finished all the problems, use [this link](http://34.212.143.74/apps/s202013/tc2006/programming_problem_set_8/) to upload the notebook file.\n",
    "\n",
    "- Only one team member needs to upload the file.\n",
    "\n",
    "- Due date is Monday, November 9."
   ]
  },
  {
   "cell_type": "code",
   "execution_count": 3,
   "metadata": {},
   "outputs": [
    {
     "data": {
      "text/plain": [
       "nil"
      ]
     },
     "execution_count": 3,
     "metadata": {},
     "output_type": "execute_result"
    }
   ],
   "source": [
    ";;; External functions required for this notebook.\n",
    "(require '[clojure.test :refer [is]])\n",
    "(require '[cemerick.pomegranate :refer [add-dependencies]])\n",
    "(add-dependencies :coordinates '[[org.clojure/core.logic \"1.0.0\"]])\n",
    "(require '[clojure.core.logic :as logic])"
   ]
  },
  {
   "cell_type": "markdown",
   "metadata": {},
   "source": [
    "---\n",
    "\n",
    "## Problem 1\n",
    "\n",
    "`(lasto lst x)`: This logic function succeeds if `x` is the last element of `lst`."
   ]
  },
  {
   "cell_type": "code",
   "execution_count": 2,
   "metadata": {},
   "outputs": [
    {
     "data": {
      "text/plain": [
       "#'user/lasto"
      ]
     },
     "execution_count": 2,
     "metadata": {},
     "output_type": "execute_result"
    }
   ],
   "source": [
    "(logic/defne lasto\n",
    "  [lst x]\n",
    "  ([[x] x])\n",
    "  ([[_ . t] r]\n",
    "   (lasto t r)))"
   ]
  },
  {
   "cell_type": "code",
   "execution_count": 3,
   "metadata": {},
   "outputs": [
    {
     "data": {
      "text/plain": [
       "true"
      ]
     },
     "execution_count": 3,
     "metadata": {},
     "output_type": "execute_result"
    }
   ],
   "source": [
    ";;; Unit tests:\n",
    "(is (= [:yes]\n",
    "       (logic/run 1 [q] \n",
    "         (lasto [1 2 3 4] 4)\n",
    "         (logic/== q :yes))))\n",
    "(is (= [:e]\n",
    "       (logic/run 1 [q] (lasto [:a :b :c :d :e] q))))\n",
    "(is (= []\n",
    "       (logic/run 1 [q] (lasto [] q))))\n",
    "(is (= '[[:a]\n",
    "         [_0 :a] \n",
    "         [_0 _1 :a]\n",
    "         [_0 _1 _2 :a]\n",
    "         [_0 _1 _2 _3 :a]]\n",
    "       (logic/run 5 [q] (lasto q :a))))"
   ]
  },
  {
   "cell_type": "markdown",
   "metadata": {},
   "source": [
    "---\n",
    "\n",
    "## Problem 2\n",
    "\n",
    "`(duplicateo lst result)`: This logic function succeeds if every element in `lst` appears duplicated in `result`."
   ]
  },
  {
   "cell_type": "code",
   "execution_count": 4,
   "metadata": {},
   "outputs": [
    {
     "data": {
      "text/plain": [
       "#'user/duplicateo"
      ]
     },
     "execution_count": 4,
     "metadata": {},
     "output_type": "execute_result"
    }
   ],
   "source": [
    "(logic/defne duplicateo\n",
    "  [lst result]\n",
    "  ([[] []])           \n",
    "  ([[h . t] [h h . r]]\n",
    "   (duplicateo t r)))"
   ]
  },
  {
   "cell_type": "code",
   "execution_count": 5,
   "metadata": {},
   "outputs": [
    {
     "data": {
      "text/plain": [
       "true"
      ]
     },
     "execution_count": 5,
     "metadata": {},
     "output_type": "execute_result"
    }
   ],
   "source": [
    ";;; Unit tests:\n",
    "(is (= [:yes]\n",
    "       (logic/run 1 [q]\n",
    "         (duplicateo [:a :b :c :d] [:a :a :b :b :c :c :d :d])\n",
    "         (logic/== q :yes))))\n",
    "(is (= [[1 1 2 2 3 3 4 4]]\n",
    "       (logic/run 1 [q] (duplicateo [1 2 3 4] q))))\n",
    "(is (= [[:a :b :c]]\n",
    "       (logic/run 1 [q] (duplicateo q [:a :a :b :b :c :c]))))\n",
    "(is (= []\n",
    "       (logic/run 1 [q] (duplicateo q [:a :a :b :b :c :c :d]))))\n",
    "(is (= '[[[] []]\n",
    "         [[_0] [_0 _0]]\n",
    "         [[_0 _1] [_0 _0 _1 _1]]\n",
    "         [[_0 _1 _2] [_0 _0 _1 _1 _2 _2]]]\n",
    "       (logic/run 4 [p q] (duplicateo p q))))"
   ]
  },
  {
   "cell_type": "markdown",
   "metadata": {},
   "source": [
    "---\n",
    "\n",
    "## Problem 3\n",
    "\n",
    "`(reverseo lst result)`: This logic function succeeds if `result` is the reverse of `lst`."
   ]
  },
  {
   "cell_type": "code",
   "execution_count": 8,
   "metadata": {},
   "outputs": [
    {
     "data": {
      "text/plain": [
       "#'user/reverseo"
      ]
     },
     "execution_count": 8,
     "metadata": {},
     "output_type": "execute_result"
    }
   ],
   "source": [
    "(logic/defne reverseo\n",
    "  [lst result]\n",
    "  ([[] []])\n",
    "  ([[h . t] r]\n",
    "   (logic/fresh [temp]\n",
    "     (reverseo t temp)\n",
    "     (logic/appendo temp [h] r))))"
   ]
  },
  {
   "cell_type": "code",
   "execution_count": 9,
   "metadata": {},
   "outputs": [
    {
     "data": {
      "text/plain": [
       "true"
      ]
     },
     "execution_count": 9,
     "metadata": {},
     "output_type": "execute_result"
    }
   ],
   "source": [
    ";;; Unit tests:\n",
    "(is (= [:yes]\n",
    "       (logic/run 1 [q] \n",
    "         (reverseo [:a :b :c :d] [:d :c :b :a])\n",
    "         (logic/== q :yes))))\n",
    "(is (= [[:d :c :b :a]]\n",
    "       (logic/run 1 [q] (reverseo [:a :b :c :d] q))))\n",
    "(is (= [[:a :b :c :d]]\n",
    "       (logic/run 1 [q] (reverseo q [:d :c :b :a]))))\n",
    "(is (= []\n",
    "       (logic/run 1 [q] \n",
    "         (reverseo [:a :b :c :d :e] [:d :c :b :a])\n",
    "         (logic/== q :yes))))"
   ]
  },
  {
   "cell_type": "markdown",
   "metadata": {},
   "source": [
    "---\n",
    "\n",
    "## Problem 4\n",
    "\n",
    "`(butlasto lst result)`: This logic function succeeds if `result` contains the same elements as `lst` except the last one."
   ]
  },
  {
   "cell_type": "code",
   "execution_count": 4,
   "metadata": {},
   "outputs": [
    {
     "data": {
      "text/plain": [
       "#'user/butlasto"
      ]
     },
     "execution_count": 4,
     "metadata": {},
     "output_type": "execute_result"
    }
   ],
   "source": [
    "(logic/defne butlasto\n",
    "  [lst result]\n",
    "  ([[_] []])\n",
    "  ([[h . t] [h . r]]\n",
    "   (butlasto t r)))"
   ]
  },
  {
   "cell_type": "code",
   "execution_count": 5,
   "metadata": {},
   "outputs": [
    {
     "data": {
      "text/plain": [
       "true"
      ]
     },
     "execution_count": 5,
     "metadata": {},
     "output_type": "execute_result"
    }
   ],
   "source": [
    ";;; Unit tests:\n",
    "(is (= [:yes]\n",
    "       (logic/run 1 [q]\n",
    "         (butlasto [:a :b :c :d :e] [:a :b :c :d])\n",
    "         (logic/== q :yes))))\n",
    "(is (= [[1 2 3]]\n",
    "       (logic/run 1 [q] (butlasto [1 2 3 4] q))))\n",
    "(is (= '[[1 2 3 4 _0]]\n",
    "       (logic/run 1 [q] (butlasto q [1 2 3 4]))))\n",
    "(is (= []\n",
    "       (logic/run 1 [q] (butlasto [1 2 3 4] [1 2 3 4]))))\n",
    "(is (= '[[[_0] []]\n",
    "         [[_0 _1] [_0]] \n",
    "         [[_0 _1 _2] [_0 _1]]]\n",
    "       (logic/run 3 [p q] (butlasto p q))))"
   ]
  },
  {
   "cell_type": "markdown",
   "metadata": {},
   "source": [
    "---\n",
    "\n",
    "## Problem 5\n",
    "\n",
    "`(enlisto lst result)`: This logic function succeeds if `result` contains the same elements as `lst` but each one contained within a list."
   ]
  },
  {
   "cell_type": "code",
   "execution_count": 6,
   "metadata": {},
   "outputs": [
    {
     "data": {
      "text/plain": [
       "#'user/enlisto"
      ]
     },
     "execution_count": 6,
     "metadata": {},
     "output_type": "execute_result"
    }
   ],
   "source": [
    "(logic/defne enlisto\n",
    "  [lst result]\n",
    "  ([[] []])\n",
    "  ([[h . t] [[h] . r]]\n",
    "   (enlisto t r)))"
   ]
  },
  {
   "cell_type": "code",
   "execution_count": 7,
   "metadata": {},
   "outputs": [
    {
     "data": {
      "text/plain": [
       "true"
      ]
     },
     "execution_count": 7,
     "metadata": {},
     "output_type": "execute_result"
    }
   ],
   "source": [
    ";;; Unit tests:\n",
    "(is (= [:yes]\n",
    "       (logic/run 1 [q]\n",
    "         (enlisto [:a :b :c :d :e] [[:a] [:b] [:c] [:d] [:e]])\n",
    "         (logic/== q :yes))))\n",
    "(is (= '[[[1] [2] [3] [4] [5]]]\n",
    "       (logic/run 1 [q] (enlisto [1 2 3 4 5] q))))\n",
    "(is (= []\n",
    "       (logic/run 1 (q) (enlisto q [1 2 3 4 5]))))\n",
    "(is (= [[1 2 3 4 5]]\n",
    "       (logic/run 1 [q] (enlisto q [[1] [2] [3] [4] [5]]))))\n",
    "(is (= '[[[] []]\n",
    "         [[_0] [[_0]]]\n",
    "         [[_0 _1] [[_0] [_1]]]\n",
    "         [[_0 _1 _2] [[_0] [_1] [_2]]]]\n",
    "       (logic/run 4 [p q] (enlisto p q))))"
   ]
  },
  {
   "cell_type": "markdown",
   "metadata": {},
   "source": [
    "---\n",
    "\n",
    "## Problem 6\n",
    "\n",
    "`(palindromeo lst)`: This logic function succeeds if `lst` is a palindrome (reads the same backward as forward)."
   ]
  },
  {
   "cell_type": "code",
   "execution_count": 10,
   "metadata": {},
   "outputs": [
    {
     "data": {
      "text/plain": [
       "#'user/palindrome"
      ]
     },
     "execution_count": 10,
     "metadata": {},
     "output_type": "execute_result"
    }
   ],
   "source": [
    "(logic/defne palindrome\n",
    "  [lst]\n",
    "  ([lst]\n",
    "   (reverseo lst lst)))"
   ]
  },
  {
   "cell_type": "code",
   "execution_count": 11,
   "metadata": {},
   "outputs": [
    {
     "data": {
      "text/plain": [
       "true"
      ]
     },
     "execution_count": 11,
     "metadata": {},
     "output_type": "execute_result"
    }
   ],
   "source": [
    ";;; Unit tests:\n",
    "(is (= [:yes]\n",
    "       (logic/run 1 [q] \n",
    "         (palindrome [:a :b :c :d :c :b :a])\n",
    "         (logic/== q :yes))))\n",
    "(is (= []\n",
    "       (logic/run 1 [q] \n",
    "         (palindrome [:a :b :c :d :e :f :g])\n",
    "         (logic/== q :yes))))\n",
    "(is (= [:yes]\n",
    "       (logic/run 1 [q] \n",
    "         (palindrome [])\n",
    "         (logic/== q :yes))))"
   ]
  },
  {
   "cell_type": "code",
   "execution_count": 12,
   "metadata": {},
   "outputs": [
    {
     "data": {
      "text/plain": [
       "(4)"
      ]
     },
     "execution_count": 12,
     "metadata": {},
     "output_type": "execute_result"
    }
   ],
   "source": [
    "(logic/run 1 [q] (logic/== q x))"
   ]
  },
  {
   "cell_type": "code",
   "execution_count": 14,
   "metadata": {},
   "outputs": [
    {
     "data": {
      "text/plain": [
       "(([4 _0] :- (!= (4 _0))))"
      ]
     },
     "execution_count": 14,
     "metadata": {},
     "output_type": "execute_result"
    }
   ],
   "source": [
    "(logic/run 1 [p q] (logic/!= p q) (logic/== p 4))"
   ]
  },
  {
   "cell_type": "code",
   "execution_count": null,
   "metadata": {},
   "outputs": [],
   "source": []
  }
 ],
 "metadata": {
  "kernelspec": {
   "display_name": "Clojure (clojupyter=0.3.2=1)",
   "language": "clojure",
   "name": "conda-clojupyter"
  },
  "language_info": {
   "file_extension": ".clj",
   "mimetype": "text/x-clojure",
   "name": "clojure",
   "version": "1.10.1"
  }
 },
 "nbformat": 4,
 "nbformat_minor": 4
}
